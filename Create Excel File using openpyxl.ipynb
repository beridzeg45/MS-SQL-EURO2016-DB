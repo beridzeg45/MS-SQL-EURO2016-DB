{
 "cells": [
  {
   "cell_type": "code",
   "execution_count": 1,
   "id": "1f8937dc-21fa-4db9-bcb4-b57998d89d56",
   "metadata": {},
   "outputs": [],
   "source": [
    "import pandas as pd\n",
    "from bs4 import BeautifulSoup\n",
    "import requests\n",
    "import openpyxl"
   ]
  },
  {
   "cell_type": "code",
   "execution_count": 2,
   "id": "7a21a027-5ad6-4c6e-84ec-75cdc3b22b21",
   "metadata": {},
   "outputs": [],
   "source": [
    "url='https://www.w3resource.com/sql-exercises/soccer-database-exercise/index.php'\n",
    "soup=BeautifulSoup(requests.get(url).content,'html.parser')"
   ]
  },
  {
   "cell_type": "code",
   "execution_count": 3,
   "id": "3bd2fb6f-c915-4a32-9c52-cb490c69483d",
   "metadata": {},
   "outputs": [],
   "source": [
    "workbook = openpyxl.Workbook()\n",
    "\n",
    "for i,li in enumerate(soup.select_one('ul[class=\"w3r_list\"]').select('li')):\n",
    "    df_url='https://www.w3resource.com/sql-exercises/soccer-database-exercise/'+li.select_one('a')['href']\n",
    "    df_html=requests.get(df_url).content\n",
    "    \n",
    "    df=pd.read_html(df_html)[0]\n",
    "    sheet_name=li.select_one('a')['href'].replace('_view_data.php','')\n",
    "\n",
    "    sheet = workbook.create_sheet(title=sheet_name)\n",
    "    \n",
    "    column_names = df.columns.tolist()\n",
    "    sheet.append(column_names)\n",
    "\n",
    "    data = df.values.tolist()\n",
    "    for row in data:\n",
    "        sheet.append(row)\n",
    "\n",
    "workbook.remove(workbook[\"Sheet\"]) # Remove the default sheet created by openpyxl\n",
    "workbook.save('soccer_data.xlsx')"
   ]
  },
  {
   "cell_type": "code",
   "execution_count": null,
   "id": "22e70d91-c085-4549-9fe3-2d3ca68d602a",
   "metadata": {},
   "outputs": [],
   "source": []
  }
 ],
 "metadata": {
  "kernelspec": {
   "display_name": "Python 3 (ipykernel)",
   "language": "python",
   "name": "python3"
  },
  "language_info": {
   "codemirror_mode": {
    "name": "ipython",
    "version": 3
   },
   "file_extension": ".py",
   "mimetype": "text/x-python",
   "name": "python",
   "nbconvert_exporter": "python",
   "pygments_lexer": "ipython3",
   "version": "3.11.3"
  }
 },
 "nbformat": 4,
 "nbformat_minor": 5
}
